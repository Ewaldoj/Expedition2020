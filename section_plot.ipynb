{
 "cells": [
  {
   "cell_type": "code",
   "execution_count": 317,
   "metadata": {},
   "outputs": [],
   "source": [
    "import os\n",
    "import pandas as pd\n",
    "import xarray as xr\n",
    "import numpy as np\n",
    "import matplotlib.pyplot as plt\n",
    "import cmocean\n",
    "import gsw\n",
    "from seabird.cnv import fCNV"
   ]
  },
  {
   "cell_type": "code",
   "execution_count": 318,
   "metadata": {},
   "outputs": [],
   "source": [
    "# read each seabird cast from your directory\n",
    "data_dir = 'data_cruise2'\n",
    "\n",
    "cast7 = fCNV(data_dir+'/station7_loop_filter_teos10_bin.cnv')\n",
    "cast8 = fCNV(data_dir+'/station8_loop_filter_teos10_bin.cnv')\n",
    "cast9 = fCNV(data_dir+'/slope_loop_filter_teos10_bin.cnv')"
   ]
  },
  {
   "cell_type": "code",
   "execution_count": 319,
   "metadata": {},
   "outputs": [],
   "source": [
    "# covert the data one station at a time to xarray\n",
    "# ideally would make this more generic - but for now, it works!"
   ]
  },
  {
   "cell_type": "markdown",
   "metadata": {},
   "source": [
    "# Station 9"
   ]
  },
  {
   "cell_type": "code",
   "execution_count": 320,
   "metadata": {},
   "outputs": [],
   "source": [
    "# get data from cnv file\n",
    "depth    = cast9['DEPTH']\n",
    "temperature = cast9['TEMP']\n",
    "salinity    = cast9['PSAL']\n",
    "\n",
    "# put the data in a dictionary\n",
    "datadic = { 'depth' : depth, 'temperature' : temperature,\n",
    "            'salinity' : salinity}\n",
    "#datadic"
   ]
  },
  {
   "cell_type": "code",
   "execution_count": 321,
   "metadata": {},
   "outputs": [],
   "source": [
    "# convert the dictionary to a pandas dataframe\n",
    "cast9df=pd.DataFrame.from_dict(datadic)\n",
    "#cast9df"
   ]
  },
  {
   "cell_type": "code",
   "execution_count": 322,
   "metadata": {},
   "outputs": [],
   "source": [
    "# convert pandas to xarray\n",
    "cast9xr = cast9df.set_index('depth').to_xarray()\n",
    "#cast9xr"
   ]
  },
  {
   "cell_type": "code",
   "execution_count": 323,
   "metadata": {},
   "outputs": [],
   "source": [
    "# add latitude and longitude coordinates\n",
    "cast9xr = cast9xr.assign_coords({'latitude': xr.DataArray(cast9.attributes['LATITUDE']),\n",
    "                                   'longitude' : xr.DataArray(cast9.attributes['LONGITUDE']),\n",
    "                                 'station':9\n",
    "                                  }\n",
    "                                  )   \n",
    "#cast9xr"
   ]
  },
  {
   "cell_type": "markdown",
   "metadata": {},
   "source": [
    "# Station 8"
   ]
  },
  {
   "cell_type": "code",
   "execution_count": 324,
   "metadata": {},
   "outputs": [],
   "source": [
    "# get data from cnv file\n",
    "depth    = cast8['DEPTH']\n",
    "temperature = cast8['TEMP']\n",
    "salinity    = cast8['PSAL']\n",
    "\n",
    "# put the data in a dictionary\n",
    "datadic = {'depth' : depth, 'temperature' : temperature,\n",
    "            'salinity' : salinity}\n",
    "\n",
    "# convert the dictionary to a pandas dataframe\n",
    "cast8df=pd.DataFrame.from_dict(datadic)\n",
    "\n",
    "# convert pandas to xarray\n",
    "cast8xr = cast7df.set_index('depth').to_xarray()\n",
    "\n",
    "# add latitude and longitude coordinates\n",
    "cast8xr = cast7xr.assign_coords({'latitude': xr.DataArray(cast8.attributes['LATITUDE']),\n",
    "                                   'longitude' : xr.DataArray(cast8.attributes['LONGITUDE']),\n",
    "                                 'station':8\n",
    "                                  }\n",
    "                                  )   \n",
    "#cast8xr"
   ]
  },
  {
   "cell_type": "markdown",
   "metadata": {},
   "source": [
    "# Station 7"
   ]
  },
  {
   "cell_type": "code",
   "execution_count": 325,
   "metadata": {},
   "outputs": [],
   "source": [
    "# get data from cnv file\n",
    "depth    = cast7['DEPTH']\n",
    "temperature = cast7['TEMP']\n",
    "salinity    = cast7['PSAL']\n",
    "\n",
    "# put the data in a dictionary\n",
    "datadic = {'depth' : depth, 'temperature' : temperature,\n",
    "            'salinity' : salinity}\n",
    "\n",
    "# convert the dictionary to a pandas dataframe\n",
    "cast7df=pd.DataFrame.from_dict(datadic)\n",
    "\n",
    "# convert pandas to xarray\n",
    "cast7xr = cast7df.set_index('depth').to_xarray()\n",
    "\n",
    "# add latitude and longitude coordinates\n",
    "cast7xr = cast7xr.assign_coords({'latitude': xr.DataArray(cast7.attributes['LATITUDE']),\n",
    "                                   'longitude' : xr.DataArray(cast7.attributes['LONGITUDE']),\n",
    "                                 'station':7\n",
    "                                  }\n",
    "                                  )   \n",
    "#cast7xr"
   ]
  },
  {
   "cell_type": "code",
   "execution_count": 328,
   "metadata": {},
   "outputs": [],
   "source": [
    "# combine all the casts into one xarray dataset\n",
    "ctdsection = xr.concat([cast7xr,cast8xr,cast9xr],\"cast\")\n",
    "#ctdsection"
   ]
  },
  {
   "cell_type": "code",
   "execution_count": 329,
   "metadata": {},
   "outputs": [],
   "source": [
    "# calculate distance\n",
    "d = gsw.distance(ctdsection.longitude.values,ctdsection.latitude.values)/1e3 # km\n",
    "dist = np.cumsum(np.hstack([0,d]))\n",
    "\n",
    "# add distance coordinate\n",
    "ctdsection = ctdsection.assign_coords({'distance' : xr.DataArray(dist, coords=[ctdsection.station], dims='cast')})\n",
    "\n",
    "ctdsection.distance.attrs['units'] = 'km'\n",
    "#ctdsection"
   ]
  },
  {
   "cell_type": "markdown",
   "metadata": {},
   "source": [
    "# Plot cross section!"
   ]
  },
  {
   "cell_type": "code",
   "execution_count": 332,
   "metadata": {},
   "outputs": [
    {
     "data": {
      "image/png": "[encoded data removed]",
      "text/plain": [
       "<Figure size 864x432 with 2 Axes>"
      ]
     },
     "metadata": {
      "needs_background": "light"
     },
     "output_type": "display_data"
    }
   ],
   "source": [
    "def beautifications(ax):\n",
    "    ax.plot(ctdsection.distance,ctdsection.distance.size*[0],\n",
    "             'kv',markersize=20)\n",
    "    ax.set_ylim(70,0)\n",
    "    ax.set_xlim(-.5,45.25)\n",
    "    \n",
    "fig = plt.figure(figsize=(12,6))\n",
    "plt.rcParams.update({'font.size': 16})\n",
    "\n",
    "ax = fig.add_subplot(111)\n",
    "ctdsection.temperature.plot.contourf('distance','depth',levels=20,cmap=cmocean.cm.deep_r)\n",
    "beautifications(ax)"
   ]
  },
  {
   "cell_type": "code",
   "execution_count": 333,
   "metadata": {},
   "outputs": [
    {
     "data": {
      "image/png": "[encoded data removed]",
      "text/plain": [
       "<Figure size 864x432 with 2 Axes>"
      ]
     },
     "metadata": {
      "needs_background": "light"
     },
     "output_type": "display_data"
    }
   ],
   "source": [
    "def beautifications(ax):\n",
    "    ax.plot(ctdsection.distance,ctdsection.distance.size*[0],\n",
    "             'kv',markersize=20)\n",
    "    ax.set_ylim(70,0)\n",
    "    ax.set_xlim(-.5,45.25)\n",
    "    \n",
    "fig = plt.figure(figsize=(12,6))\n",
    "plt.rcParams.update({'font.size': 16})\n",
    "\n",
    "ax = fig.add_subplot(111)\n",
    "ctdsection.salinity.plot.contourf('distance','depth',levels=20,cmap=cmocean.cm.deep_r)\n",
    "beautifications(ax)"
   ]
  },
  {
   "cell_type": "code",
   "execution_count": null,
   "metadata": {},
   "outputs": [],
   "source": []
  }
 ],
 "metadata": {
  "kernelspec": {
   "display_name": "Python 3",
   "language": "python",
   "name": "python3"
  },
  "language_info": {
   "codemirror_mode": {
    "name": "ipython",
    "version": 3
   },
   "file_extension": ".py",
   "mimetype": "text/x-python",
   "name": "python",
   "nbconvert_exporter": "python",
   "pygments_lexer": "ipython3",
   "version": "3.7.6"
  }
 },
 "nbformat": 4,
 "nbformat_minor": 4
}
